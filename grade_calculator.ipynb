{
  "nbformat": 4,
  "nbformat_minor": 0,
  "metadata": {
    "colab": {
      "provenance": [],
      "include_colab_link": true
    },
    "kernelspec": {
      "name": "python3",
      "display_name": "Python 3"
    },
    "language_info": {
      "name": "python"
    }
  },
  "cells": [
    {
      "cell_type": "markdown",
      "metadata": {
        "id": "view-in-github",
        "colab_type": "text"
      },
      "source": [
        "<a href=\"https://colab.research.google.com/github/JohnPatrickChipongian/DSP_GROUP-8/blob/main/grade_calculator.ipynb\" target=\"_parent\"><img src=\"https://colab.research.google.com/assets/colab-badge.svg\" alt=\"Open In Colab\"/></a>"
      ]
    },
    {
      "cell_type": "code",
      "execution_count": null,
      "metadata": {
        "colab": {
          "base_uri": "https://localhost:8080/"
        },
        "id": "eqeZz-iXNcpy",
        "outputId": "35e56fa4-9911-48bd-883a-22aad98c562f"
      },
      "outputs": [
        {
          "output_type": "stream",
          "name": "stdout",
          "text": [
            "Enter your name: Chi\n",
            "Enter your course: CpE\n",
            "Input your prelim grade: 65\n",
            "Input your midterm grade: 65\n",
            "Input your final grade: 69\n",
            "How would you like to print your grade(SG,GPE): SG\n",
            "66.6\n",
            "😭\n"
          ]
        }
      ],
      "source": [
        "happy, lol, sad = \"\\U0001F600\", \"\\U0001F606\", \"\\U0001F62D\"\n",
        "\n",
        "student_name = input(\"Enter your name: \")\n",
        "student_course = input(\"Enter your course: \")\n",
        "prelim_grade = float(input(\"Input your prelim grade: \"))\n",
        "midterm_grade = float(input(\"Input your midterm grade: \"))\n",
        "final_grade = float(input(\"Input your final grade: \"))\n",
        "print_grade = input(\"How would you like to print your grade(SG,GPE): \")\n",
        "\n",
        "\n",
        "sem_grade = (prelim_grade*0.3)+(midterm_grade*0.3)+(final_grade*0.4)\n",
        "\n",
        "if print_grade == \"SG\":\n",
        "\n",
        "  if sem_grade >= 71 and sem_grade <= 100:\n",
        "      print(sem_grade)\n",
        "      print(happy)\n",
        "  elif sem_grade == 70:\n",
        "      print(sem_grade)\n",
        "      print(lol)\n",
        "  elif sem_grade < 70:\n",
        "      print(sem_grade)\n",
        "      print(sad)\n",
        "  else:\n",
        "      print(\"Invalid Input!\")\n",
        "\n",
        "elif print_grade == \"GPE\":\n",
        "  if sem_grade >= 97 and sem_grade <= 100:\n",
        "      print(\"1.00\")\n",
        "      print(happy)\n",
        "  elif sem_grade >= 93 and sem_grade <= 96:\n",
        "      print(\"1.25\")\n",
        "      print(happy)\n",
        "  elif sem_grade >= 89 and sem_grade <= 92:\n",
        "      print(\"1.50\")\n",
        "      print(happy)\n",
        "  elif sem_grade >= 85 and sem_grade <= 88:\n",
        "      print(\"1.75\")\n",
        "      print(happy)\n",
        "  elif sem_grade >= 82 and sem_grade <= 84:\n",
        "      print(\"2.00\")\n",
        "      print(happy)\n",
        "  elif sem_grade >= 79 and sem_grade <= 81:\n",
        "      print(\"2.25\")\n",
        "      print(happy)\n",
        "  elif sem_grade >= 76 and sem_grade <= 78:\n",
        "      print(\"2.50\")\n",
        "      print(happy)\n",
        "  elif sem_grade >= 73 and sem_grade <= 75:\n",
        "      print(\"2.75\")\n",
        "      print(happy)\n",
        "  elif sem_grade >= 70 and sem_grade <= 72:\n",
        "      print(\"3.00\")\n",
        "      print(lol)\n",
        "  elif sem_grade > 70:\n",
        "      print(\"5.00\")\n",
        "      print(sad)\n",
        "\n",
        "else:\n",
        "  print(\"Invalid Input!\")"
      ]
    }
  ]
}